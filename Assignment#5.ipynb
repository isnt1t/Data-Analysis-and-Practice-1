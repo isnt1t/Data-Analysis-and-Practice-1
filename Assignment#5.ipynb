{
 "cells": [
  {
   "cell_type": "code",
   "execution_count": 1,
   "metadata": {},
   "outputs": [],
   "source": [
    "import numpy as np\n",
    "import pandas as pd\n",
    "from __future__ import (absolute_import, division, print_function, unicode_literals)\n",
    "from RatingMatrix import MovieLens_pivot\n",
    "import os\n",
    "from surprise import SVD\n",
    "from surprise import Dataset\n",
    "from surprise import Reader\n",
    "from surprise.model_selection import cross_validate\n",
    "from surprise.model_selection import KFold\n",
    "from surprise import KNNWithMeans\n",
    "from surprise import SVD\n",
    "sim_options = {'name' : 'cosine', 'user_based' : True}\n",
    "import warnings\n",
    "warnings.filterwarnings('ignore')"
   ]
  },
  {
   "cell_type": "code",
   "execution_count": null,
   "metadata": {},
   "outputs": [],
   "source": [
    "data = Dataset.load_builtin('ml-1m')\n",
    "kf = KFold(n_splits = 5) "
   ]
  },
  {
   "cell_type": "code",
   "execution_count": 27,
   "metadata": {},
   "outputs": [],
   "source": [
    "pred_rating_mean = pd.read_csv('pred_rating_mean.csv')\n",
    "pred_rating_svd = pd.read_csv('pred_rating_svd.csv')\n",
    "pred_rating_pmf = pd.read_csv('pred_rating_pmf.csv')\n",
    "pred_rating_pmf_bi = pd.read_csv('pred_rating_pmf_bi.csv')"
   ]
  },
  {
   "cell_type": "markdown",
   "metadata": {},
   "source": [
    "## 1) Precision&Recall&F1-measure"
   ]
  },
  {
   "cell_type": "markdown",
   "metadata": {},
   "source": [
    "### CF with mean"
   ]
  },
  {
   "cell_type": "code",
   "execution_count": 4,
   "metadata": {},
   "outputs": [],
   "source": [
    "algo = KNNWithMeans(k = 40, min_k = 1, simoptions = sim_options)"
   ]
  },
  {
   "cell_type": "code",
   "execution_count": 5,
   "metadata": {},
   "outputs": [
    {
     "ename": "ValueError",
     "evalue": "too many values to unpack (expected 3)",
     "output_type": "error",
     "traceback": [
      "\u001b[1;31m---------------------------------------------------------------------------\u001b[0m",
      "\u001b[1;31mValueError\u001b[0m                                Traceback (most recent call last)",
      "\u001b[1;32m<ipython-input-5-5ed64d31ed99>\u001b[0m in \u001b[0;36m<module>\u001b[1;34m()\u001b[0m\n\u001b[1;32m----> 1\u001b[1;33m \u001b[1;32mfor\u001b[0m \u001b[0mtrainset\u001b[0m\u001b[1;33m,\u001b[0m \u001b[0mtestset\u001b[0m\u001b[1;33m,\u001b[0m \u001b[0mi\u001b[0m \u001b[1;32min\u001b[0m \u001b[0mkf\u001b[0m\u001b[1;33m.\u001b[0m\u001b[0msplit\u001b[0m\u001b[1;33m(\u001b[0m\u001b[0mdata\u001b[0m\u001b[1;33m)\u001b[0m\u001b[1;33m,\u001b[0m \u001b[0mrange\u001b[0m\u001b[1;33m(\u001b[0m\u001b[1;36m1000\u001b[0m\u001b[1;33m)\u001b[0m\u001b[1;33m:\u001b[0m\u001b[1;33m\u001b[0m\u001b[0m\n\u001b[0m\u001b[0;32m      2\u001b[0m     \u001b[0malgo\u001b[0m\u001b[1;33m.\u001b[0m\u001b[0mfit\u001b[0m\u001b[1;33m(\u001b[0m\u001b[0mtrainset\u001b[0m\u001b[1;33m)\u001b[0m\u001b[1;33m\u001b[0m\u001b[0m\n\u001b[0;32m      3\u001b[0m     \u001b[0mpredictions\u001b[0m \u001b[1;33m=\u001b[0m \u001b[0malgo\u001b[0m\u001b[1;33m.\u001b[0m\u001b[0mtest\u001b[0m\u001b[1;33m(\u001b[0m\u001b[0mtestset\u001b[0m\u001b[1;33m)\u001b[0m\u001b[1;33m\u001b[0m\u001b[0m\n\u001b[0;32m      4\u001b[0m     \u001b[0mprecision\u001b[0m\u001b[1;33m,\u001b[0m \u001b[0mrecalls\u001b[0m \u001b[1;33m=\u001b[0m \u001b[0mprecision_recall_at_k\u001b[0m\u001b[1;33m(\u001b[0m\u001b[0mpredictions\u001b[0m\u001b[1;33m,\u001b[0m \u001b[0mk\u001b[0m \u001b[1;33m=\u001b[0m \u001b[1;36m5\u001b[0m\u001b[1;33m,\u001b[0m \u001b[0mthreshold\u001b[0m \u001b[1;33m=\u001b[0m \u001b[1;36m4\u001b[0m\u001b[1;33m)\u001b[0m\u001b[1;33m\u001b[0m\u001b[0m\n\u001b[0;32m      5\u001b[0m \u001b[1;33m\u001b[0m\u001b[0m\n",
      "\u001b[1;31mValueError\u001b[0m: too many values to unpack (expected 3)"
     ]
    }
   ],
   "source": [
    "for trainset, testset, i in kf.split(data):\n",
    "    algo.fit(trainset)\n",
    "    predictions = algo.test(testset)\n",
    "    precision, recalls = precision_recall_at_k(predictions, k = 5, threshold = 4)\n",
    "    \n",
    "    P = sum(prec for prec in precisions.values()) / len(precisons)\n",
    "    R = sum(prec for rec in recalls.values()) / len(recalls)\n",
    "    F1 = 2 * P * R / (P + R)\n",
    "    \n",
    "    print('precision : ', P)\n",
    "    print('recall : ', R)\n",
    "    print('F1 : '  , F1)"
   ]
  },
  {
   "cell_type": "markdown",
   "metadata": {},
   "source": [
    "### SVD"
   ]
  },
  {
   "cell_type": "code",
   "execution_count": 6,
   "metadata": {},
   "outputs": [],
   "source": [
    "algo = SVD(n_factors = 100, n_epochs = 20, biased = False, lr_all = 0.005, reg_all = 0)"
   ]
  },
  {
   "cell_type": "code",
   "execution_count": null,
   "metadata": {},
   "outputs": [],
   "source": [
    "for trainset, testset, i in kf.split(data):\n",
    "    algo.fit(trainset)\n",
    "    predictions = algo.test(testset)\n",
    "    precision, recalls = precision_recall_at_k(predictions, k = 5, threshold = 4)\n",
    "    \n",
    "    P = sum(prec for prec in precisions.values()) / len(precisons)\n",
    "    R = sum(prec for rec in recalls.values()) / len(recalls)\n",
    "    F1 = 2 * P * R / (P + R)\n",
    "    \n",
    "    print('precision : ', P)\n",
    "    print('recall : ', R)\n",
    "    print('F1 : '  , F1)"
   ]
  },
  {
   "cell_type": "markdown",
   "metadata": {},
   "source": [
    "### PMF"
   ]
  },
  {
   "cell_type": "code",
   "execution_count": 7,
   "metadata": {},
   "outputs": [],
   "source": [
    "algo = SVD(n_factors = 100, n_epochs = 20, biased = False, lr_all = 0.005, reg_all = 0.02)"
   ]
  },
  {
   "cell_type": "code",
   "execution_count": null,
   "metadata": {},
   "outputs": [],
   "source": [
    "for trainset, testset, i in kf.split(data):\n",
    "    algo.fit(trainset)\n",
    "    predictions = algo.test(testset)\n",
    "    precision, recalls = precision_recall_at_k(predictions, k = 5, threshold = 4)\n",
    "    \n",
    "    P = sum(prec for prec in precisions.values()) / len(precisons)\n",
    "    R = sum(prec for rec in recalls.values()) / len(recalls)\n",
    "    F1 = 2 * P * R / (P + R)\n",
    "    \n",
    "    print('precision : ', P)\n",
    "    print('recall : ', R)\n",
    "    print('F1 : '  , F1)"
   ]
  },
  {
   "cell_type": "markdown",
   "metadata": {},
   "source": [
    "### PMF with biased"
   ]
  },
  {
   "cell_type": "code",
   "execution_count": 8,
   "metadata": {},
   "outputs": [],
   "source": [
    "algo = SVD(n_factors = 100, n_epochs = 20, biased = True, lr_all = 0.005, reg_all = 0.02)"
   ]
  },
  {
   "cell_type": "code",
   "execution_count": null,
   "metadata": {},
   "outputs": [],
   "source": [
    "for trainset, testset, i in kf.split(data):\n",
    "    algo.fit(trainset)\n",
    "    predictions = algo.test(testset)\n",
    "    precision, recalls = precision_recall_at_k(predictions, k = 5, threshold = 4)\n",
    "    \n",
    "    P = sum(prec for prec in precisions.values()) / len(precisons)\n",
    "    R = sum(prec for rec in recalls.values()) / len(recalls)\n",
    "    F1 = 2 * P * R / (P + R)\n",
    "    \n",
    "    print('precision : ', P)\n",
    "    print('recall : ', R)\n",
    "    print('F1 : '  , F1)"
   ]
  },
  {
   "cell_type": "markdown",
   "metadata": {},
   "source": [
    "## 2) NDCG"
   ]
  },
  {
   "cell_type": "code",
   "execution_count": 204,
   "metadata": {},
   "outputs": [],
   "source": [
    "df = pd.DataFrame(data.raw_ratings, columns = ['uid', 'iid', 'rate', 'timestamp'])\n",
    "del df['timestamp']\n",
    "user = list(set(df.uid))"
   ]
  },
  {
   "cell_type": "code",
   "execution_count": 271,
   "metadata": {},
   "outputs": [],
   "source": [
    "def addRating(uid, method):\n",
    "    add = df[df.uid == uid]\n",
    "    add['pred'] = 0.0\n",
    "    for iid, i in zip(add.iid, add.index):\n",
    "        add.set_value(i, 'pred', pred_rating_mean.iloc[int(uid) - 1][int(iid) + 1])\n",
    "    \n",
    "    return add\n",
    "\n",
    "def DCG(data):\n",
    "    pred_sort = list(data.sort_values(by = ['pred'], axis = 0, ascending = False).rate)\n",
    "    dcg = pred_sort[0]\n",
    "    for i in range(1, len(pred_sort)):\n",
    "        dcg += pred_sort[i] / np.log2(i + 1)\n",
    "        \n",
    "    return dcg\n",
    "\n",
    "def IDCG(data):\n",
    "    rate_sort = list(data.sort_values(by = ['rate'], axis = 0, ascending = False).rate)\n",
    "    idcg = rate_sort[0]\n",
    "    for i in range(1, len(rate_sort)):\n",
    "        idcg += rate_sort[i] / np.log2(i + 1)\n",
    "        \n",
    "    return idcg"
   ]
  },
  {
   "cell_type": "code",
   "execution_count": 272,
   "metadata": {},
   "outputs": [],
   "source": [
    "def NDCG(uid, method):\n",
    "    table = addRating(uid, method)\n",
    "    dcg = DCG(table)\n",
    "    idcg = IDCG(table)\n",
    "    \n",
    "    return dcg / idcg"
   ]
  },
  {
   "cell_type": "markdown",
   "metadata": {},
   "source": [
    "### CF with mean"
   ]
  },
  {
   "cell_type": "code",
   "execution_count": 270,
   "metadata": {},
   "outputs": [],
   "source": [
    "NDCG_CF_mean = {}"
   ]
  },
  {
   "cell_type": "code",
   "execution_count": 281,
   "metadata": {},
   "outputs": [],
   "source": [
    "for u, i in zip(user, range(10)):\n",
    "    value = NDCG(u, pred_rating_mean)      # 오래 걸려서 일단 10개만 돌림\n",
    "    NDCG_CF_mean[u] = value\n",
    "    if i == 9:\n",
    "        break"
   ]
  },
  {
   "cell_type": "code",
   "execution_count": 282,
   "metadata": {},
   "outputs": [
    {
     "data": {
      "text/plain": [
       "{'5352': 0.9964681842034485,\n",
       " '3704': 0.9982952348008067,\n",
       " '3604': 1.0,\n",
       " '1156': 0.9978229154359466,\n",
       " '2428': 0.9944994359395674,\n",
       " '4768': 0.9971608295198146,\n",
       " '3388': 1.0,\n",
       " '3579': 0.9935187253321537,\n",
       " '804': 0.9994919576116145,\n",
       " '4843': 0.9980309658977566}"
      ]
     },
     "execution_count": 282,
     "metadata": {},
     "output_type": "execute_result"
    }
   ],
   "source": [
    "NDCG_CF_mean"
   ]
  },
  {
   "cell_type": "markdown",
   "metadata": {},
   "source": [
    "### SVD"
   ]
  },
  {
   "cell_type": "code",
   "execution_count": 283,
   "metadata": {},
   "outputs": [],
   "source": [
    "NDCG_SVD = {}"
   ]
  },
  {
   "cell_type": "code",
   "execution_count": null,
   "metadata": {},
   "outputs": [],
   "source": [
    "for u, i in zip(user, range(10)):\n",
    "    value = NDCG(u, pred_rating_svd)\n",
    "    NDCG_SVD[u] = value\n",
    "    if i == 9:\n",
    "        break"
   ]
  },
  {
   "cell_type": "code",
   "execution_count": null,
   "metadata": {},
   "outputs": [],
   "source": [
    "NDCG_SVD"
   ]
  },
  {
   "cell_type": "markdown",
   "metadata": {},
   "source": [
    "### PMF"
   ]
  },
  {
   "cell_type": "code",
   "execution_count": null,
   "metadata": {},
   "outputs": [],
   "source": [
    "NDCG_PMF = {}"
   ]
  },
  {
   "cell_type": "code",
   "execution_count": null,
   "metadata": {},
   "outputs": [],
   "source": [
    "for u, i in zip(user, range(10)):\n",
    "    value = NDCG(u, pred_rating_pmf)\n",
    "    NDCG_PMF[u] = value\n",
    "    if i == 9:\n",
    "        break"
   ]
  },
  {
   "cell_type": "code",
   "execution_count": null,
   "metadata": {},
   "outputs": [],
   "source": [
    "NDCG_PMF"
   ]
  },
  {
   "cell_type": "markdown",
   "metadata": {},
   "source": [
    "### PMF with biased"
   ]
  },
  {
   "cell_type": "code",
   "execution_count": null,
   "metadata": {},
   "outputs": [],
   "source": [
    "NDCG_PMF_bi = {}"
   ]
  },
  {
   "cell_type": "code",
   "execution_count": null,
   "metadata": {},
   "outputs": [],
   "source": [
    "for u, i in zip(user, range(10)):\n",
    "    value = NDCG(u, pred_rating_pmf_bi)\n",
    "    NDCG_PMF_bi[u] = value\n",
    "    if i == 9:\n",
    "        break"
   ]
  },
  {
   "cell_type": "code",
   "execution_count": null,
   "metadata": {},
   "outputs": [],
   "source": [
    "NDCG_PMF_bi"
   ]
  }
 ],
 "metadata": {
  "kernelspec": {
   "display_name": "Python 3",
   "language": "python",
   "name": "python3"
  },
  "language_info": {
   "codemirror_mode": {
    "name": "ipython",
    "version": 3
   },
   "file_extension": ".py",
   "mimetype": "text/x-python",
   "name": "python",
   "nbconvert_exporter": "python",
   "pygments_lexer": "ipython3",
   "version": "3.6.5"
  }
 },
 "nbformat": 4,
 "nbformat_minor": 2
}
