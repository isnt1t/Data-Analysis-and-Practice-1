{
 "cells": [
  {
   "cell_type": "markdown",
   "metadata": {},
   "source": [
    "# 6조 (17011709 정선아, 17011741 문성용, 17011742 김소영)"
   ]
  },
  {
   "cell_type": "code",
   "execution_count": 2,
   "metadata": {},
   "outputs": [],
   "source": [
    "import warnings\n",
    "warnings.filterwarnings(\"ignore\")\n",
    "\n",
    "import numpy as np\n",
    "import pandas as pd"
   ]
  },
  {
   "cell_type": "code",
   "execution_count": 3,
   "metadata": {},
   "outputs": [],
   "source": [
    "MovieLens_df = pd.read_table(\"ratings.dat\", sep='::', header=None, names=['UserID','MovieID','Rating','Timestamp'])\n",
    "MovieLens_df.drop(['Timestamp'], axis=1, inplace=True)\n",
    "MovieLens_pivot = MovieLens_df.pivot_table(index='UserID', columns='MovieID', values='Rating')\n",
    "row_index = MovieLens_pivot.isnull().sum(axis = 1).sort_values() # NaN이 적은 순으로 행 뽑아내기\n",
    "MovieLens_pivot = pd.DataFrame(MovieLens_pivot, index=row_index.index)\n",
    "# rating이 많은 사용자 1,000명\n",
    "MovieLens_pivot = MovieLens_pivot.iloc[:1000,:]\n",
    "col_index = MovieLens_pivot.isnull().sum(axis = 0).sort_values() # NaN이 적은 순으로 열 뽑아내기\n",
    "MovieLens_pivot = pd.DataFrame(MovieLens_pivot, columns=col_index.index)\n",
    "# rating이 많은 영화 1,000개\n",
    "MovieLens_pivot = MovieLens_pivot.iloc[:,:1000]\n",
    "user_index = MovieLens_pivot.index.values # User ID 순서 기억하기\n",
    "user_index = pd.Series(user_index) # Index rename 인자로 넣기 위해 형태 변경\n",
    "MovieLens_pivot.fillna(0, inplace=True)\n",
    "MovieLens_pivot = MovieLens_pivot.astype('int64')\n",
    "MovieLens_pivot = np.array(MovieLens_pivot) # 함수 인자로 넣기 위해 numpy array 형태로 변경"
   ]
  },
  {
   "cell_type": "markdown",
   "metadata": {},
   "source": [
    "# 1. Cosine Simiarity"
   ]
  },
  {
   "cell_type": "code",
   "execution_count": 4,
   "metadata": {},
   "outputs": [],
   "source": [
    "def COS(data):\n",
    "    size = np.size(data, axis = 0)\n",
    "    simCOS = np.zeros(shape = (size, size)) # 0으로 초기화 된 행렬 생성\n",
    "    \n",
    "    for u in range(0, size): # 각 유저별로 for문 반복\n",
    "        arridx_u = np.where(data[u, ] == 0)\n",
    "        for v in range(u + 1, size):\n",
    "            arridx_v = np.where(data[v, ] == 0)\n",
    "            arridx = np.unique(np.concatenate((arridx_u, arridx_v), axis = None))\n",
    "            \n",
    "            U = np.delete(data[u, ], arridx)\n",
    "            V = np.delete(data[v, ], arridx)\n",
    "            \n",
    "            if(np.linalg.norm(U) == 0 or np.linalg.norm(V) == 0):\n",
    "                simCOS[u, v] = 0\n",
    "            else:\n",
    "                simCOS[u, v] = np.dot(U, V) / (np.linalg.norm(U) * np.linalg.norm(V))\n",
    "            \n",
    "            simCOS[v, u] = simCOS[u, v]\n",
    "    return simCOS # 최종 행렬값 반환"
   ]
  },
  {
   "cell_type": "markdown",
   "metadata": {},
   "source": [
    "# 2. Pearson Correlation Coefficient"
   ]
  },
  {
   "cell_type": "code",
   "execution_count": 5,
   "metadata": {},
   "outputs": [],
   "source": [
    "def PCC(data):\n",
    "    size = np.size(data, axis = 0)\n",
    "    simPCC = np.full((size, size), -1.0) #-1로 초기화\n",
    "    \n",
    "    mean = np.nanmean(np.where(data != 0, data, np.nan), axis = 1)\n",
    "    \n",
    "    for u in range(0, size):\n",
    "        arridx_u = np.where(data[u, ] == 0)\n",
    "        for v in range(u + 1, size):\n",
    "            arridx_v = np.where(data[v, ] == 0)\n",
    "            arridx = np.unique(np.concatenate((arridx_u, arridx_v), axis = None))\n",
    "            \n",
    "            U = np.delete(data[u, ], arridx) - mean[u]\n",
    "            V = np.delete(data[v, ], arridx) - mean[v]\n",
    "            \n",
    "            if(np.linalg.norm(U) == 0 or np.linalg.norm(V) == 0):\n",
    "                simPCC[u, v] = 0\n",
    "            else:\n",
    "                simPCC[u, v] = np.dot(U, V) / (np.linalg.norm(U) * np.linalg.norm(V))\n",
    "            \n",
    "            simPCC[v, u] = simPCC[u, v]\n",
    "        \n",
    "        return simPCC"
   ]
  },
  {
   "cell_type": "markdown",
   "metadata": {},
   "source": [
    "# 레이팅"
   ]
  },
  {
   "cell_type": "code",
   "execution_count": 61,
   "metadata": {},
   "outputs": [
    {
     "data": {
      "text/plain": [
       "\"\\ndef basic_baseline(data, sim, k):\\n    #initializing (1000, 1000) numpy array with zeros \\n    pre_rating = np.zeros(data.shape)\\n    \\n    #the mean of all ratings\\n    mean = np.nanmean(np.where(data != 0, data, np.nan), axis = 1)\\n    mean_i = np.nanmean(np.where(data != 0, data, np.nan), axis = 0)\\n    \\n    #selecting similarity fuction\\n    if(sim == 'COS'):\\n        Sim = COS(data)\\n    else:\\n        Sim = PCC(data)\\n    \\n    #selecting top k users by sorting similarity array\\n    k_users = np.argsort(-Sim) #index zero is the biggest\\n    k_users = np.delete(k_users, np.s_[k:], 1) #delete colomn under k\\n    \\n    #number of users with axis = 0 condition\\n    num_users = np.size(data, axis = 0)\\n    \\n    #test area\\n    #print(mean.shape)\\n    #print(mean_i.shape)\\n    \\n    for u in range(0, num_users):\\n        list_sim = Sim[u, k_users[u, ]] #similarity list\\n        list_rating = data[k_users[u, ], ].astype('float64') #rating list\\n        mean_user = mean[k_users[u, ], ] #the mean of all ratings given by user u\\n        mean_item = mean_i[k_users[u, ], ] #the mean of all ratings given to item i\\n        #print(mean_user.shape)\\n        base_user = np.subtract(mean_user, mean.reshape(-1, 1)) #baseline user\\n        base_item = np.subtract(mean_item, mean.reshape(-1, 1)) #baseline item\\n        baseline = np.add(mean, base_user, base_item) #baseline on u, i\\n        \\n        #calculation\\n        mom = np.sum(list_sim) #denominator\\n        son = np.sum(list_sim.reshape(-1, 1) * (list_rating - baseline), axis = 0)\\n        pre_rating[u, ] = baseline[u, ] + son/mom\\n    \\n    return predicted\""
      ]
     },
     "execution_count": 61,
     "metadata": {},
     "output_type": "execute_result"
    }
   ],
   "source": [
    "\"\"\"\n",
    "def basic_baseline(data, sim, k):\n",
    "    #initializing (1000, 1000) numpy array with zeros \n",
    "    pre_rating = np.zeros(data.shape)\n",
    "    \n",
    "    #the mean of all ratings\n",
    "    mean = np.nanmean(np.where(data != 0, data, np.nan), axis = 1)\n",
    "    mean_i = np.nanmean(np.where(data != 0, data, np.nan), axis = 0)\n",
    "    \n",
    "    #selecting similarity fuction\n",
    "    if(sim == 'COS'):\n",
    "        Sim = COS(data)\n",
    "    else:\n",
    "        Sim = PCC(data)\n",
    "    \n",
    "    #selecting top k users by sorting similarity array\n",
    "    k_users = np.argsort(-Sim) #index zero is the biggest\n",
    "    k_users = np.delete(k_users, np.s_[k:], 1) #delete colomn under k\n",
    "    \n",
    "    #number of users with axis = 0 condition\n",
    "    num_users = np.size(data, axis = 0)\n",
    "    \n",
    "    #test area\n",
    "    #print(mean.shape)\n",
    "    #print(mean_i.shape)\n",
    "    \n",
    "    for u in range(0, num_users):\n",
    "        list_sim = Sim[u, k_users[u, ]] #similarity list\n",
    "        list_rating = data[k_users[u, ], ].astype('float64') #rating list\n",
    "        mean_user = mean[k_users[u, ], ] #the mean of all ratings given by user u\n",
    "        mean_item = mean_i[k_users[u, ], ] #the mean of all ratings given to item i\n",
    "        #print(mean_user.shape)\n",
    "        base_user = np.subtract(mean_user, mean.reshape(-1, 1)) #baseline user\n",
    "        base_item = np.subtract(mean_item, mean.reshape(-1, 1)) #baseline item\n",
    "        baseline = np.add(mean, base_user, base_item) #baseline on u, i\n",
    "        \n",
    "        #calculation\n",
    "        mom = np.sum(list_sim) #denominator\n",
    "        son = np.sum(list_sim.reshape(-1, 1) * (list_rating - baseline), axis = 0)\n",
    "        pre_rating[u, ] = baseline[u, ] + son/mom\n",
    "    \n",
    "    return predicted\"\"\""
   ]
  },
  {
   "cell_type": "code",
   "execution_count": 59,
   "metadata": {},
   "outputs": [
    {
     "name": "stdout",
     "output_type": "stream",
     "text": [
      "40 60\n"
     ]
    }
   ],
   "source": [
    "data = MovieLens_pivot[:40, :60]\n",
    "sim = 'COS'\n",
    "k = 2\n",
    "# initializing (1000, 1000) numpy array with zeros \n",
    "pre_rating = np.zeros(data.shape)\n",
    "    \n",
    "# the mean of all ratings\n",
    "mean = np.nanmean(np.where(data != 0, data, np.nan))\n",
    "mean_u = np.nanmean(np.where(data != 0, data, np.nan), axis=1)\n",
    "mean_i = np.nanmean(np.where(data != 0, data, np.nan), axis=0)\n",
    "\n",
    "# print(mean, mean.shape) 스칼라\n",
    "# print(mean_u, mean_u.shape) (40,)\n",
    "# print(mean_i, mean_i.shape) (60,)\n",
    "\n",
    "b_u = mean_u - mean # (40,)\n",
    "b_i = mean_i - mean # (60,)\n",
    "\n",
    "# b = mean + b_u + b_i\n",
    "\n",
    "# selecting similarity fuction\n",
    "if(sim == 'COS'):\n",
    "    Sim = COS(data)\n",
    "elif(sim == 'PCC'):\n",
    "    Sim = PCC(data)\n",
    "    \n",
    "# selecting top k users by sorting similarity array\n",
    "k_users = np.argsort(-Sim) #작은 값부터 순서대로 인덱싱\n",
    "k_users = np.delete(k_users, np.s_[k:], 1) # delete colomn under k\n",
    "\n",
    "# number of users with axis = 0 condition\n",
    "num_users = np.size(data, axis=0)\n",
    "num_items = np.size(data, axis=1)\n",
    "\n",
    "# print(k_users[u])\n",
    "# list of v\n",
    "    \n",
    "for u in range(0, num_users):\n",
    "    list_sim = Sim[u, k_users[u]]\n",
    "    # top k명 뽑아내기 (얘네가 user v) / top k similarity list, sim(u, v)\n",
    "    for i in range(0, num_items):\n",
    "        # (2,)로 맞춰줘야 함\n",
    "        list_rating = data[k_users[u], i].astype('float64')\n",
    "        # 걔네들의 rating (r_v,i) / top k rating list, r_vi\n",
    "    \n",
    "        b_ui = mean + b_u[u] + b_i[i] # scalar\n",
    "        b_vi = mean + b_u[k_users[u]] + b_i[i] # list\n",
    "        \n",
    "        # mean_u[u] : user u의 평균\n",
    "        # mean_i[i] : item i의 평균\n",
    "        # b_u[u] : user u의 b\n",
    "        # b_i[i] : item i의 b\n",
    "        \n",
    "        # calculation\n",
    "\n",
    "        # print(list_sim.shape) = (2, )\n",
    "        # print(list_sim.reshape(-1, 1.shape) = (2, 1)\n",
    "\n",
    "        mom = np.sum(list_sim) #분모 (2,)\n",
    "        son = np.sum(list_sim * (list_rating - b_vi))\n",
    "        # print(son)\n",
    "        # v1 v2\n",
    "        pre_rating[u,i] = b_ui + son / mom"
   ]
  },
  {
   "cell_type": "code",
   "execution_count": 60,
   "metadata": {},
   "outputs": [
    {
     "data": {
      "text/plain": [
       "array([[4.355083  , 4.85508736, 4.355083  , ..., 3.355083  , 4.85508736,\n",
       "        3.355083  ],\n",
       "       [3.43111491, 3.43111491, 3.9318173 , ..., 3.43251969, 4.43251969,\n",
       "        2.9318173 ],\n",
       "       [5.17721019, 5.17721019, 5.17721019, ..., 4.17721019, 4.67736939,\n",
       "        4.17721019],\n",
       "       ...,\n",
       "       [3.88933102, 4.38989361, 3.88933102, ..., 2.88933102, 3.8904562 ,\n",
       "        2.88933102],\n",
       "       [3.93613944, 3.93613944, 3.93613944, ..., 2.93613944, 3.43567408,\n",
       "        3.4366048 ],\n",
       "       [4.09388583, 4.09388583, 4.09388583, ..., 3.09388583, 3.59401629,\n",
       "        3.09388583]])"
      ]
     },
     "execution_count": 60,
     "metadata": {},
     "output_type": "execute_result"
    }
   ],
   "source": [
    "pre_rating"
   ]
  },
  {
   "cell_type": "code",
   "execution_count": null,
   "metadata": {},
   "outputs": [],
   "source": []
  }
 ],
 "metadata": {
  "kernelspec": {
   "display_name": "Python 3",
   "language": "python",
   "name": "python3"
  },
  "language_info": {
   "codemirror_mode": {
    "name": "ipython",
    "version": 3
   },
   "file_extension": ".py",
   "mimetype": "text/x-python",
   "name": "python",
   "nbconvert_exporter": "python",
   "pygments_lexer": "ipython3",
   "version": "3.7.3"
  }
 },
 "nbformat": 4,
 "nbformat_minor": 2
}
