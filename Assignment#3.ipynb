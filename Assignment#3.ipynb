{
 "cells": [
  {
   "cell_type": "markdown",
   "metadata": {},
   "source": [
    "# 6조 (17011709 정선아, 17011741 문성용, 17011742 김소영)"
   ]
  },
  {
   "cell_type": "code",
   "execution_count": 1,
   "metadata": {},
   "outputs": [],
   "source": [
    "import warnings\n",
    "warnings.filterwarnings(\"ignore\")\n",
    "\n",
    "import numpy as np\n",
    "import pandas as pd"
   ]
  },
  {
   "cell_type": "code",
   "execution_count": 2,
   "metadata": {},
   "outputs": [],
   "source": [
    "MovieLens_df = pd.read_table(\"ratings.dat\", sep='::', header=None, names=['UserID','MovieID','Rating','Timestamp'])\n",
    "MovieLens_df.drop(['Timestamp'], axis=1, inplace=True)\n",
    "MovieLens_pivot = MovieLens_df.pivot_table(index='UserID', columns='MovieID', values='Rating')\n",
    "row_index = MovieLens_pivot.isnull().sum(axis = 1).sort_values() # NaN이 적은 순으로 행 뽑아내기\n",
    "MovieLens_pivot = pd.DataFrame(MovieLens_pivot, index=row_index.index)\n",
    "# rating이 많은 사용자 1,000명\n",
    "MovieLens_pivot = MovieLens_pivot.iloc[:1000,:]\n",
    "col_index = MovieLens_pivot.isnull().sum(axis = 0).sort_values() # NaN이 적은 순으로 열 뽑아내기\n",
    "MovieLens_pivot = pd.DataFrame(MovieLens_pivot, columns=col_index.index)\n",
    "# rating이 많은 영화 1,000개\n",
    "MovieLens_pivot = MovieLens_pivot.iloc[:,:1000]\n",
    "user_index = MovieLens_pivot.index.values # User ID 순서 기억하기\n",
    "user_index = pd.Series(user_index) # Index rename 인자로 넣기 위해 형태 변경\n",
    "MovieLens_pivot.fillna(0, inplace=True)\n",
    "MovieLens_pivot = MovieLens_pivot.astype('int64')\n",
    "MovieLens_pivot = np.array(MovieLens_pivot) # 함수 인자로 넣기 위해 numpy array 형태로 변경"
   ]
  },
  {
   "cell_type": "markdown",
   "metadata": {},
   "source": [
    "# 1. Cosine Simiarity"
   ]
  },
  {
   "cell_type": "code",
   "execution_count": 3,
   "metadata": {},
   "outputs": [],
   "source": [
    "def COS(data):\n",
    "    size = np.size(data, axis = 0)\n",
    "    simCOS = np.zeros(shape = (size, size)) # 0으로 초기화 된 행렬 생성\n",
    "    \n",
    "    for u in range(0, size): # 각 유저별로 for문 반복\n",
    "        arridx_u = np.where(data[u, ] == 0)\n",
    "        for v in range(u + 1, size):\n",
    "            arridx_v = np.where(data[v, ] == 0)\n",
    "            arridx = np.unique(np.concatenate((arridx_u, arridx_v), axis = None))\n",
    "            \n",
    "            U = np.delete(data[u, ], arridx)\n",
    "            V = np.delete(data[v, ], arridx)\n",
    "            \n",
    "            if(np.linalg.norm(U) == 0 or np.linalg.norm(V) == 0):\n",
    "                simCOS[u, v] = 0\n",
    "            else:\n",
    "                simCOS[u, v] = np.dot(U, V) / (np.linalg.norm(U) * np.linalg.norm(V))\n",
    "            \n",
    "            simCOS[v, u] = simCOS[u, v]\n",
    "    return simCOS # 최종 행렬값 반환"
   ]
  },
  {
   "cell_type": "markdown",
   "metadata": {},
   "source": [
    "# 2. Pearson Correlation Coefficient"
   ]
  },
  {
   "cell_type": "code",
   "execution_count": 4,
   "metadata": {},
   "outputs": [],
   "source": [
    "def PCC(data):\n",
    "    size = np.size(data, axis = 0)\n",
    "    simPCC = np.full((size, size), -1.0) #-1로 초기화\n",
    "    \n",
    "    mean = np.nanmean(np.where(data != 0, data, np.nan), axis = 1)\n",
    "    \n",
    "    for u in range(0, size):\n",
    "        arridx_u = np.where(data[u, ] == 0)\n",
    "        for v in range(u + 1, size):\n",
    "            arridx_v = np.where(data[v, ] == 0)\n",
    "            arridx = np.unique(np.concatenate((arridx_u, arridx_v), axis = None))\n",
    "            \n",
    "            U = np.delete(data[u, ], arridx) - mean[u]\n",
    "            V = np.delete(data[v, ], arridx) - mean[v]\n",
    "            \n",
    "            if(np.linalg.norm(U) == 0 or np.linalg.norm(V) == 0):\n",
    "                simPCC[u, v] = 0\n",
    "            else:\n",
    "                simPCC[u, v] = np.dot(U, V) / (np.linalg.norm(U) * np.linalg.norm(V))\n",
    "            \n",
    "            simPCC[v, u] = simPCC[u, v]\n",
    "        \n",
    "        return simPCC"
   ]
  },
  {
   "cell_type": "markdown",
   "metadata": {},
   "source": [
    "# Rating"
   ]
  },
  {
   "cell_type": "code",
   "execution_count": 15,
   "metadata": {},
   "outputs": [],
   "source": [
    "A = np.array([[4, 1, 1, 4, 2, 3, 5, 0, 4, 0],\n",
    "              [0, 4, 2, 0, 3, 2, 5, 0, 4, 3],\n",
    "              [2, 0, 4, 5, 2, 0, 1, 3, 4, 2],\n",
    "              [1, 4, 0, 1, 4, 5, 0, 3, 1, 2],\n",
    "              [1, 2, 3, 4, 0, 3, 4, 4, 2, 5]])"
   ]
  },
  {
   "cell_type": "code",
   "execution_count": 80,
   "metadata": {},
   "outputs": [],
   "source": [
    "# 임시로 만들어 놓기\n",
    "def basic_mean(mat, sim, k):\n",
    "    predicted_rating = np.zeros(mat.shape)\n",
    "    \n",
    "    mean = np.nanmean(np.where(mat != 0, mat, np.nan), axis=1)\n",
    "\n",
    "    if(sim == 'COS'):\n",
    "        Sim = COS(mat)\n",
    "    elif(sim == 'PCC'):\n",
    "        Sim = PCC(mat)\n",
    "        \n",
    "    k_neighbors = np.argsort(-Sim)\n",
    "    k_neighbors = np.delete(k_neighbors, np.s_[k:], 1)\n",
    "\n",
    "    NumUsers = np.size(mat, axis=0)\n",
    "    \n",
    "    for u in range(0, NumUsers):\n",
    "        list_sim = Sim[u, k_neighbors[u]]\n",
    "        list_rating = mat[k_neighbors[u]]\n",
    "        list_mean = mean[k_neighbors[u]]\n",
    "        \n",
    "        mom = np.sum(list_sim)\n",
    "        sun = np.sum(list_sim.reshape(-1,1) * (list_rating - list_mean.reshape(-1,1)), axis=0)\n",
    "        predicted_rating[u] = mean[u] + sun / mom\n",
    "        \n",
    "    return predicted_rating"
   ]
  },
  {
   "cell_type": "code",
   "execution_count": 100,
   "metadata": {},
   "outputs": [],
   "source": [
    "def basic_baseline(data, sim, k):\n",
    "    # initializing (1000, 1000) numpy array with zeros \n",
    "    pred_rating = np.zeros(data.shape)\n",
    "\n",
    "    # calculating means\n",
    "    mean = np.nanmean(np.where(data != 0, data, np.nan)) # the mean of all ratings\n",
    "    mean_u = np.nanmean(np.where(data != 0, data, np.nan), axis=1) # the mean of all users\n",
    "    mean_i = np.nanmean(np.where(data != 0, data, np.nan), axis=0) # the mean of all items\n",
    "    \n",
    "    # base user, item\n",
    "    b_u = mean_u - mean \n",
    "    b_i = mean_i - mean\n",
    "    # b_ui = mean + b_u + b_i\n",
    "\n",
    "    # selecting similarity fuction\n",
    "    if(sim == 'COS'):\n",
    "        Sim = COS(data)\n",
    "    elif(sim == 'PCC'):\n",
    "        Sim = PCC(data)\n",
    "\n",
    "    # selecting top k users by sorting similarity array\n",
    "    k_users = np.argsort(-Sim)\n",
    "    k_users = np.delete(k_users, np.s_[k:], 1) # delete colomn under k\n",
    "        \n",
    "    # number of users with axis = 0 condition\n",
    "    num_users = np.size(data, axis=0)\n",
    "    num_items = np.size(data, axis=1)\n",
    "    \n",
    "    # calculating predicted ratings\n",
    "    for u in range(0, num_users):\n",
    "        list_sim = Sim[u, k_users[u]] # selecting top k similarity\n",
    "        for i in range(0, num_items):\n",
    "            list_rating = data[k_users[u], i].astype('float64') # k users' ratings on item i\n",
    "\n",
    "            b_ui = mean + b_u[u] + b_i[i] # scalar\n",
    "            b_vi = mean + b_u[k_users[u]] + b_i[i] # list\n",
    "            \n",
    "            # explanation of varialbles\n",
    "            # mean_u[u] : user u의 평균\n",
    "            # mean_i[i] : item i의 평균\n",
    "            # b_u[u] : user u의 baseline\n",
    "            # b_i[i] : item i의 baseline\n",
    "\n",
    "            # calculation\n",
    "            mom = np.sum(list_sim) #분모\n",
    "            son = np.sum(list_sim * (list_rating - b_vi)) #분자\n",
    "            pred_rating[u, i] = b_ui + son / mom\n",
    "            \n",
    "    return pred_rating"
   ]
  },
  {
   "cell_type": "code",
   "execution_count": 99,
   "metadata": {},
   "outputs": [
    {
     "name": "stdout",
     "output_type": "stream",
     "text": [
      "[[897 999 979 ... 899 822 489]\n",
      " [822 561 386 ... 822 979 456]\n",
      " [999 897 822 ... 579 742 336]\n",
      " ...\n",
      " [172 179 828 ... 172 672 183]\n",
      " [179 172 172 ... 891 179 179]\n",
      " [  0   1   2 ... 997 998 999]]\n"
     ]
    },
    {
     "data": {
      "text/plain": [
       "array([[ 0.90143893,  1.39986697,  0.90143893, ..., -0.59384522,\n",
       "        -0.59384522, -0.59384522],\n",
       "       [ 4.33672454,  4.33672454,  4.33672454, ..., -0.66327546,\n",
       "         1.85843357,  1.31935732],\n",
       "       [ 1.45751178,  1.95745313,  1.45751178, ..., -0.04231225,\n",
       "        -0.04231225, -0.04231225],\n",
       "       ...,\n",
       "       [ 4.52037615,  4.52037615,  2.62035971, ...,  0.553704  ,\n",
       "         2.58703186,  0.553704  ],\n",
       "       [ 4.9088151 ,  4.9088151 ,  2.82060205, ...,  0.87941075,\n",
       "         2.8500064 ,  0.87941075],\n",
       "       [ 5.50970633,  4.01671684,  4.01204316, ...,  1.00736949,\n",
       "         0.50970633,  5.00736949]])"
      ]
     },
     "execution_count": 99,
     "metadata": {},
     "output_type": "execute_result"
    }
   ],
   "source": [
    "basic_baseline(MovieLens_pivot, 'COS', 2)"
   ]
  }
 ],
 "metadata": {
  "kernelspec": {
   "display_name": "Python 3",
   "language": "python",
   "name": "python3"
  },
  "language_info": {
   "codemirror_mode": {
    "name": "ipython",
    "version": 3
   },
   "file_extension": ".py",
   "mimetype": "text/x-python",
   "name": "python",
   "nbconvert_exporter": "python",
   "pygments_lexer": "ipython3",
   "version": "3.7.3"
  }
 },
 "nbformat": 4,
 "nbformat_minor": 2
}
