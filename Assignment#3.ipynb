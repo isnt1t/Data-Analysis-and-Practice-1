{
 "cells": [
  {
   "cell_type": "markdown",
   "metadata": {},
   "source": [
    "# 6조 (17011709 정선아, 17011741 문성용, 17011742 김소영)"
   ]
  },
  {
   "cell_type": "code",
   "execution_count": 1,
   "metadata": {},
   "outputs": [],
   "source": [
    "import warnings\n",
    "warnings.filterwarnings(\"ignore\")\n",
    "\n",
    "import pandas as pd\n",
    "import numpy as np"
   ]
  },
  {
   "cell_type": "code",
   "execution_count": 2,
   "metadata": {},
   "outputs": [],
   "source": [
    "MovieLens_df = pd.read_table(\"ratings.dat\", sep='::', header=None, names=['UserID','MovieID','Rating','Timestamp'])\n",
    "MovieLens_df.drop(['Timestamp'], axis=1, inplace=True)\n",
    "MovieLens_pivot = MovieLens_df.pivot_table(index='UserID', columns='MovieID', values='Rating')\n",
    "row_index = MovieLens_pivot.isnull().sum(axis = 1).sort_values() # NaN이 적은 순으로 행 뽑아내기\n",
    "MovieLens_pivot = pd.DataFrame(MovieLens_pivot, index=row_index.index)\n",
    "# rating이 많은 사용자 1,000명\n",
    "MovieLens_pivot = MovieLens_pivot.iloc[:1000,:]\n",
    "col_index = MovieLens_pivot.isnull().sum(axis = 0).sort_values() # NaN이 적은 순으로 열 뽑아내기\n",
    "MovieLens_pivot = pd.DataFrame(MovieLens_pivot, columns=col_index.index)\n",
    "# rating이 많은 영화 1,000개\n",
    "MovieLens_pivot = MovieLens_pivot.iloc[:,:1000]\n",
    "user_index = MovieLens_pivot.index.values # User ID 순서 기억하기\n",
    "user_index = pd.Series(user_index) # Index rename 인자로 넣기 위해 형태 변경\n",
    "MovieLens_pivot.fillna(0, inplace=True)\n",
    "MovieLens_pivot = MovieLens_pivot.astype('int64')\n",
    "MovieLens_pivot = np.array(MovieLens_pivot) # 함수 인자로 넣기 위해 numpy array 형태로 변경"
   ]
  },
  {
   "cell_type": "markdown",
   "metadata": {},
   "source": [
    "# 1. Cosine Simiarity"
   ]
  },
  {
   "cell_type": "code",
   "execution_count": 16,
   "metadata": {},
   "outputs": [],
   "source": [
    "def COS(data):\n",
    "    size = np.size(data, axis = 0)\n",
    "    simCOS = np.zeros(shape = (size, size)) # 0으로 초기화 된 행렬 생성\n",
    "    \n",
    "    for i in range(0, size): # 각 유저별로 for문 반복\n",
    "        for j in range(i, size):\n",
    "            normI = np.linalg.norm(data[i, ]) # i벡터의 크기 계산\n",
    "            normJ = np.linalg.norm(data[j, ]) # j벡터의 크기 계산\n",
    "            inputData = np.dot(data[i, ], data[j, ])/(normI * normJ) # Cosine similarity 공식\n",
    "            simCOS[i, j] = inputData # 행렬에 계산 값 대입하기\n",
    "            simCOS[j, i] = inputData # 대각선 값 대입하기\n",
    "    \n",
    "    return simCOS # 최종 행렬값 반환"
   ]
  },
  {
   "cell_type": "markdown",
   "metadata": {},
   "source": [
    "# 2. Pearson Correlation Coefficient"
   ]
  },
  {
   "cell_type": "code",
   "execution_count": 17,
   "metadata": {},
   "outputs": [],
   "source": [
    "def cal_PCC(i, j): # 두 벡터의 PCC값을 계산해 주는 함수\n",
    "    i = np.array(i) # numpy array로 형변환\n",
    "    j = np.array(j) # numpy array로 형변환\n",
    "    \n",
    "    # 벡터의 0인 원소를 null값으로 바꾸고 null값을 제외한 평균값\n",
    "    mean_i = np.nanmean(np.where(i != 0, i, np.nan)) \n",
    "    mean_j = np.nanmean(np.where(j != 0, j, np.nan))\n",
    "    \n",
    "    # 벡터의 원소가 0인 부분의 인덱스를 저장한 리스트 생성\n",
    "    zero_i = np.where(i == 0)\n",
    "    zero_j = np.where(j == 0)\n",
    "    \n",
    "    # zero_i와 zero_j 벡터를 하나로 합쳐준다.\n",
    "    zeros = np.concatenate((zero_i, zero_j), axis = None)\n",
    "    \n",
    "    # 각 벡터의 원소가 0인 인덱스를 삭제\n",
    "    del_i = np.delete(i, zeros) \n",
    "    del_j = np.delete(j, zeros)\n",
    "    \n",
    "    # 각 벡터의 원소에서 평균값을 빼준다.\n",
    "    del_i = del_i - mean_i\n",
    "    del_j = del_j - mean_j\n",
    "    \n",
    "    return np.dot(del_i, del_j)/(np.linalg.norm(del_i) * np.linalg.norm(del_j))\n",
    "    # PCC 공식을 통한 similarity 값 반환\n",
    "\n",
    "def PCC(data):\n",
    "    size = np.size(data, axis = 0)\n",
    "    simPCC = np.zeros(shape = (size, size)) # 0으로 초기화 된 행렬 생성\n",
    "    \n",
    "    for i in range(0, size):\n",
    "        for j in range(i, size):\n",
    "            inputData = cal_PCC(data[i, ], data[j, ]) # cal_PCC함수를 이용\n",
    "            simPCC[i, j] = inputData\n",
    "            simPCC[j, i] = inputData\n",
    "    \n",
    "    return simPCC"
   ]
  },
  {
   "cell_type": "markdown",
   "metadata": {},
   "source": [
    "# 레이팅"
   ]
  },
  {
   "cell_type": "code",
   "execution_count": 70,
   "metadata": {},
   "outputs": [],
   "source": [
    "def basic_baseline(data, sim, k):\n",
    "    #initializing (1000, 1000) numpy array with zeros \n",
    "    pre_rating = np.zeros(data.shape)\n",
    "    \n",
    "    #the mean of all ratings\n",
    "    mean = np.nanmean(np.where(data != 0, data, np.nan), axis = 1)\n",
    "    mean_i = np.nanmean(np.where(data != 0, data, np.nan), axis = 0)\n",
    "    \n",
    "    #selecting similarity fuction\n",
    "    if(sim == 'COS'):\n",
    "        Sim = COS(data)\n",
    "    else:\n",
    "        Sim = PCC(data)\n",
    "    \n",
    "    #selecting top k users by sorting similarity array\n",
    "    k_users = np.argsort(-Sim) #index zero is the biggest\n",
    "    k_users = np.delete(k_users, np.s_[k:], 1) #delete colomn under k\n",
    "    \n",
    "    #number of users with axis = 0 condition\n",
    "    num_users = np.size(data, axis = 0)\n",
    "    \n",
    "    #test area\n",
    "    #print(mean.shape)\n",
    "    #print(mean_i.shape)\n",
    "    \n",
    "    for u in range(0, num_users):\n",
    "        list_sim = Sim[u, k_users[u, ]] #similarity list\n",
    "        list_rating = data[k_users[u, ], ].astype('float64') #rating list\n",
    "        mean_user = mean[k_users[u, ], ] #the mean of all ratings given by user u\n",
    "        mean_item = mean_i[k_users[u, ], ] #the mean of all ratings given to item i\n",
    "        #print(mean_user.shape)\n",
    "        base_user = np.subtract(mean_user, mean.reshape(-1, 1)) #baseline user\n",
    "        base_item = np.subtract(mean_item, mean.reshape(-1, 1)) #baseline item\n",
    "        baseline = np.add(mean, base_user, base_item) #baseline on u, i\n",
    "        \n",
    "        #calculation\n",
    "        mom = np.sum(list_sim) #denominator\n",
    "        son = np.sum(list_sim.reshape(-1, 1) * (list_rating - baseline), axis = 0)\n",
    "        pre_rating[u, ] = baseline[u, ] + son/mom\n",
    "    \n",
    "    return predicted"
   ]
  },
  {
   "cell_type": "code",
   "execution_count": null,
   "metadata": {},
   "outputs": [],
   "source": []
  },
  {
   "cell_type": "code",
   "execution_count": null,
   "metadata": {},
   "outputs": [],
   "source": []
  },
  {
   "cell_type": "code",
   "execution_count": 105,
   "metadata": {},
   "outputs": [
    {
     "ename": "TypeError",
     "evalue": "return arrays must be of ArrayType",
     "output_type": "error",
     "traceback": [
      "\u001b[1;31m---------------------------------------------------------------------------\u001b[0m",
      "\u001b[1;31mTypeError\u001b[0m                                 Traceback (most recent call last)",
      "\u001b[1;32m<ipython-input-105-504e5bbd3a6d>\u001b[0m in \u001b[0;36m<module>\u001b[1;34m()\u001b[0m\n\u001b[0;32m     29\u001b[0m     \u001b[0mbase_user\u001b[0m \u001b[1;33m=\u001b[0m \u001b[0mnp\u001b[0m\u001b[1;33m.\u001b[0m\u001b[0msubtract\u001b[0m\u001b[1;33m(\u001b[0m\u001b[0mmean\u001b[0m\u001b[1;33m[\u001b[0m\u001b[0mu\u001b[0m\u001b[1;33m]\u001b[0m\u001b[1;33m,\u001b[0m \u001b[0mmean\u001b[0m\u001b[1;33m.\u001b[0m\u001b[0mmean\u001b[0m\u001b[1;33m(\u001b[0m\u001b[1;33m)\u001b[0m\u001b[1;33m)\u001b[0m \u001b[1;31m#baseline user\u001b[0m\u001b[1;33m\u001b[0m\u001b[0m\n\u001b[0;32m     30\u001b[0m     \u001b[0mbase_item\u001b[0m \u001b[1;33m=\u001b[0m \u001b[0mnp\u001b[0m\u001b[1;33m.\u001b[0m\u001b[0msubtract\u001b[0m\u001b[1;33m(\u001b[0m\u001b[0mmean_i\u001b[0m\u001b[1;33m[\u001b[0m\u001b[0mu\u001b[0m\u001b[1;33m]\u001b[0m\u001b[1;33m,\u001b[0m \u001b[0mmean\u001b[0m\u001b[1;33m.\u001b[0m\u001b[0mmean\u001b[0m\u001b[1;33m(\u001b[0m\u001b[1;33m)\u001b[0m\u001b[1;33m)\u001b[0m \u001b[1;31m#baseline item\u001b[0m\u001b[1;33m\u001b[0m\u001b[0m\n\u001b[1;32m---> 31\u001b[1;33m     \u001b[0mbaseline\u001b[0m \u001b[1;33m=\u001b[0m \u001b[0mnp\u001b[0m\u001b[1;33m.\u001b[0m\u001b[0madd\u001b[0m\u001b[1;33m(\u001b[0m\u001b[0mmean\u001b[0m\u001b[1;33m,\u001b[0m \u001b[0mbase_user\u001b[0m\u001b[1;33m,\u001b[0m \u001b[0mbase_item\u001b[0m\u001b[1;33m)\u001b[0m \u001b[1;31m#baseline on u, i\u001b[0m\u001b[1;33m\u001b[0m\u001b[0m\n\u001b[0m\u001b[0;32m     32\u001b[0m \u001b[1;33m\u001b[0m\u001b[0m\n\u001b[0;32m     33\u001b[0m     \u001b[1;31m#calculation\u001b[0m\u001b[1;33m\u001b[0m\u001b[1;33m\u001b[0m\u001b[0m\n",
      "\u001b[1;31mTypeError\u001b[0m: return arrays must be of ArrayType"
     ]
    }
   ],
   "source": [
    "data = MovieLens_pivot[:20, :20]\n",
    "sim = 'COS'\n",
    "k = 2\n",
    "#initializing (1000, 1000) numpy array with zeros \n",
    "pre_rating = np.zeros(data.shape)\n",
    "    \n",
    "    #the mean of all ratings\n",
    "mean = np.nanmean(np.where(data != 0, data, np.nan), axis = 1)\n",
    "mean_i = np.nanmean(np.where(data != 0, data, np.nan), axis = 0)\n",
    "    \n",
    "    #selecting similarity fuction\n",
    "if(sim == 'COS'):\n",
    "    Sim = COS(data)\n",
    "else:\n",
    "    Sim = PCC(data)\n",
    "    \n",
    "    #selecting top k users by sorting similarity array\n",
    "k_users = np.argsort(-Sim) #index zero is the biggest\n",
    "k_users = np.delete(k_users, np.s_[k:], 1) #delete colomn under k\n",
    "    \n",
    "    #number of users with axis = 0 condition\n",
    "num_users = np.size(data, axis = 0)\n",
    "    \n",
    "    \n",
    "for u in range(0, num_users):\n",
    "    list_sim = Sim[u, k_users[u, ]] #top k similarity list\n",
    "    list_rating = data[k_users[u, ], ].astype('float64') #top krating list\n",
    "    \n",
    "    base_user = np.subtract(mean[u], mean.mean()) #baseline user\n",
    "    base_item = np.subtract(mean_i[u], mean.mean()) #baseline item\n",
    "    baseline = np.add(mean, base_user, base_item) #baseline on u, i\n",
    "        \n",
    "    #calculation\n",
    "    mom = np.sum(list_sim) #분모\n",
    "    son = np.sum(list_sim * (list_rating - __buj__), axis = 0)\n",
    "    pre_rating[u, ] = __bui__ + son/mom"
   ]
  },
  {
   "cell_type": "code",
   "execution_count": 115,
   "metadata": {},
   "outputs": [
    {
     "data": {
      "text/plain": [
       "array([1.       , 0.9868704])"
      ]
     },
     "execution_count": 115,
     "metadata": {},
     "output_type": "execute_result"
    }
   ],
   "source": [
    "list_sim"
   ]
  },
  {
   "cell_type": "code",
   "execution_count": 93,
   "metadata": {},
   "outputs": [
    {
     "data": {
      "text/plain": [
       "array([3.77345538, 3.74473358, 4.32469136, 3.26097867, 2.9352518 ,\n",
       "       3.04418262, 3.10098177, 3.17062937, 2.57463884, 3.87749288,\n",
       "       3.49284785, 3.50402145, 3.62386511, 3.97319035, 2.98347107,\n",
       "       2.97335203, 3.91439689, 3.33541342, 3.81923077, 4.06925208])"
      ]
     },
     "execution_count": 93,
     "metadata": {},
     "output_type": "execute_result"
    }
   ],
   "source": [
    "mean"
   ]
  },
  {
   "cell_type": "code",
   "execution_count": null,
   "metadata": {},
   "outputs": [],
   "source": []
  }
 ],
 "metadata": {
  "kernelspec": {
   "display_name": "Python 3",
   "language": "python",
   "name": "python3"
  },
  "language_info": {
   "codemirror_mode": {
    "name": "ipython",
    "version": 3
   },
   "file_extension": ".py",
   "mimetype": "text/x-python",
   "name": "python",
   "nbconvert_exporter": "python",
   "pygments_lexer": "ipython3",
   "version": "3.6.5"
  }
 },
 "nbformat": 4,
 "nbformat_minor": 2
}
