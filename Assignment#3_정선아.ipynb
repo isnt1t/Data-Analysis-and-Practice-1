{
 "cells": [
  {
   "cell_type": "markdown",
   "metadata": {},
   "source": [
    "# 6조 (17011709 정선아, 17011741 문성용, 17011742 김소영)"
   ]
  },
  {
   "cell_type": "code",
   "execution_count": 173,
   "metadata": {},
   "outputs": [],
   "source": [
    "import warnings\n",
    "warnings.filterwarnings(\"ignore\")\n",
    "\n",
    "import numpy as np\n",
    "import pandas as pd"
   ]
  },
  {
   "cell_type": "code",
   "execution_count": 174,
   "metadata": {},
   "outputs": [],
   "source": [
    "MovieLens_df = pd.read_table(\"ratings.dat\", sep='::', header=None, names=['UserID','MovieID','Rating','Timestamp'])\n",
    "MovieLens_df.drop(['Timestamp'], axis=1, inplace=True)\n",
    "MovieLens_pivot = MovieLens_df.pivot_table(index='UserID', columns='MovieID', values='Rating')\n",
    "row_index = MovieLens_pivot.isnull().sum(axis = 1).sort_values() # NaN이 적은 순으로 행 뽑아내기\n",
    "MovieLens_pivot = pd.DataFrame(MovieLens_pivot, index=row_index.index)\n",
    "# rating이 많은 사용자 1,000명\n",
    "MovieLens_pivot = MovieLens_pivot.iloc[:1000,:]\n",
    "col_index = MovieLens_pivot.isnull().sum(axis = 0).sort_values() # NaN이 적은 순으로 열 뽑아내기\n",
    "MovieLens_pivot = pd.DataFrame(MovieLens_pivot, columns=col_index.index)\n",
    "# rating이 많은 영화 1,000개\n",
    "MovieLens_pivot = MovieLens_pivot.iloc[:,:1000]\n",
    "# user_index = MovieLens_pivot.index.values # User ID 순서 기억하기\n",
    "# user_index = pd.Series(user_index) # Index rename Simi인자로 넣기 위해 형태 변경\n",
    "MovieLens_pivot.fillna(0, inplace=True)\n",
    "MovieLens_pivot = MovieLens_pivot.astype('int64')\n",
    "MovieLens_pivot = np.array(MovieLens_pivot) # 함수 인자로 넣기 위해 numpy array 형태로 변경"
   ]
  },
  {
   "cell_type": "markdown",
   "metadata": {},
   "source": [
    "# 1. Cosine Similarity"
   ]
  },
  {
   "cell_type": "code",
   "execution_count": 202,
   "metadata": {},
   "outputs": [],
   "source": [
    "def COS(data):\n",
    "    num_users = np.size(data, axis=0)\n",
    "    simCOS = np.zeros((num_users,num_users))  # 0으로 초기화 된 행렬 생성\n",
    "    for u in range(0, num_users):  # 각 유저별로 for문 반복\n",
    "        arridx_u = np.where(data[u, ] == 0)\n",
    "        for v in range(u + 1, num_users):\n",
    "            arridx_v = np.where(data[v, ] == 0)\n",
    "            arridx = np.unique(np.concatenate((arridx_u, arridx_v), axis=None))\n",
    "\n",
    "            U = np.delete(data[u, ], arridx)\n",
    "            V = np.delete(data[v, ], arridx)\n",
    "\n",
    "            if np.linalg.norm(U) == 0 or np.linalg.norm(V) == 0:\n",
    "                simCOS[u, v] = 0\n",
    "            else:\n",
    "                simCOS[u, v] = np.dot(U, V) / (np.linalg.norm(U) * np.linalg.norm(V))\n",
    "\n",
    "            simCOS[v, u] = simCOS[u, v]\n",
    "    return simCOS"
   ]
  },
  {
   "cell_type": "markdown",
   "metadata": {},
   "source": [
    "# 2. Pearson Correlation Coefficient"
   ]
  },
  {
   "cell_type": "code",
   "execution_count": 224,
   "metadata": {},
   "outputs": [],
   "source": [
    "def PCC(data):\n",
    "    num_users = np.size(data, axis=0)\n",
    "    simPCC = np.zeros((num_users,num_users))  # 0으로 초기화 된 행렬 생성\n",
    "    mean = np.nanmean(np.where(data != 0, data, np.nan), axis=1)\n",
    "    for u in range(0, num_users):\n",
    "        arridx_u = np.where(data[u, ] == 0)\n",
    "        for v in range(u + 1, num_users):\n",
    "            arridx_v = np.where(data[v, ] == 0)\n",
    "            arridx = np.unique(np.concatenate((arridx_u, arridx_v), axis=None))\n",
    "\n",
    "            U = np.delete(data[u, ], arridx) - mean[u]\n",
    "            V = np.delete(data[v, ], arridx) - mean[v]\n",
    "\n",
    "            if np.linalg.norm(U) == 0 or np.linalg.norm(V) == 0:\n",
    "                simPCC[u, v] = 0\n",
    "            else:\n",
    "                simPCC[u, v] = np.dot(U, V) / (np.linalg.norm(U) * np.linalg.norm(V))\n",
    "\n",
    "            simPCC[v, u] = simPCC[u, v]\n",
    "\n",
    "    return simPCC"
   ]
  },
  {
   "cell_type": "markdown",
   "metadata": {},
   "source": [
    "# Rating"
   ]
  },
  {
   "cell_type": "code",
   "execution_count": 303,
   "metadata": {},
   "outputs": [],
   "source": [
    "def basic_baseline(data, sim, k):\n",
    "    # initializing (1000, 1000) numpy array with zeros\n",
    "    predicted_rating = np.zeros(data.shape)\n",
    "\n",
    "    # calculating means\n",
    "    mean = np.nanmean(np.where(data != 0, data, np.nan))  # the mean of all ratings\n",
    "    mean_u = np.nanmean(np.where(data != 0, data, np.nan), axis=1)  # the mean of all users\n",
    "    mean_i = np.nanmean(np.where(data != 0, data, np.nan), axis=0)  # the mean of all items\n",
    "\n",
    "    # base user, item\n",
    "    b_u = mean_u - mean\n",
    "    b_i = mean_i - mean\n",
    "    # b_ui = mean + b_u + b_i\n",
    "\n",
    "    # selecting similarity fuction\n",
    "    if sim == 'COS':\n",
    "        sim = COS(data)\n",
    "    elif sim == 'PCC':\n",
    "        sim = PCC(data)\n",
    "        \n",
    "    # selecting top k users by sorting similarity array\n",
    "    k_users = np.argsort(-sim)\n",
    "    k_users = np.delete(k_users, np.s_[k:], 1)  # delete colomn under k\n",
    "\n",
    "    # number of users with axis = 0 condition\n",
    "    num_users = np.size(data, axis=0)\n",
    "    num_items = np.size(data, axis=1)\n",
    "\n",
    "    \n",
    "    # calculating predicted ratings\n",
    "    for u in range(0, num_users):\n",
    "        list_sim = sim[u, k_users[u]]  # selecting top k similarity\n",
    "        for i in range(0, num_items):\n",
    "            list_rating = data[k_users[u], i].astype('float64')  # k users' ratings on item i\n",
    "\n",
    "            b_ui = mean + b_u[u] + b_i[i]  # scalar\n",
    "            b_vi = mean + b_u[k_users[u]] + b_i[i]  # list\n",
    "\n",
    "            # explanation of varialbles\n",
    "            # mean_u[u] : user u의 평균\n",
    "            # mean_i[i] : item i의 평균\n",
    "            # b_u[u] : user u의 baseline\n",
    "            # b_i[i] : item i의 baseline\n",
    "\n",
    "            # calculation\n",
    "            mom = np.sum(list_sim)  # 분모\n",
    "            son = np.sum(list_sim * (list_rating - b_vi))  # 분자\n",
    "            predicted_rating[u, i] = b_ui + son / mom\n",
    "\n",
    "    return predicted_rating"
   ]
  }
 ],
 "metadata": {
  "kernelspec": {
   "display_name": "Python 3",
   "language": "python",
   "name": "python3"
  },
  "language_info": {
   "codemirror_mode": {
    "name": "ipython",
    "version": 3
   },
   "file_extension": ".py",
   "mimetype": "text/x-python",
   "name": "python",
   "nbconvert_exporter": "python",
   "pygments_lexer": "ipython3",
   "version": "3.7.3"
  }
 },
 "nbformat": 4,
 "nbformat_minor": 2
}
